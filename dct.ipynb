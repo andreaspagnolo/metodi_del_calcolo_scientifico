{
 "cells": [
  {
   "cell_type": "code",
   "execution_count": 41,
   "id": "a85c3ec4",
   "metadata": {},
   "outputs": [
    {
     "name": "stdout",
     "output_type": "stream",
     "text": [
      "DCT-2 Example:\n"
     ]
    }
   ],
   "source": [
    "import numpy as np\n",
    "from math import sqrt\n",
    "\n",
    "def my_dtc1(x):\n",
    "    N = len(x)\n",
    "    X = np.zeros(N)\n",
    "\n",
    "    for k in range(N):\n",
    "        if k == 0:\n",
    "            alpha = sqrt(1/N)\n",
    "        else:\n",
    "            alpha = sqrt(2/N)\n",
    "        somma = 0\n",
    "        for n in range(N):\n",
    "            angolo = (np.pi/N) * (n + 0.5) * k\n",
    "            somma += x[n] * np.cos(angolo)\n",
    "        X[k] = alpha * somma\n",
    "    return X\n",
    "\n",
    "print(\"DCT-2 Example:\")\n",
    "x = [231, 32, 233, 161, 24, 71, 140, 245]\n",
    "expected_result = np.array([4.01e+02, 6.60e+00, 1.09e+02, -1.12e+02, 6.54e+01, 1.21e+02, 1.16e+02, 2.88e+01])\n",
    "result = dtc1(x)"
   ]
  },
  {
   "cell_type": "code",
   "execution_count": 42,
   "id": "deb77a96",
   "metadata": {},
   "outputs": [
    {
     "name": "stdout",
     "output_type": "stream",
     "text": [
      "DCT-2 Example:\n",
      "Test passato con successo!\n"
     ]
    }
   ],
   "source": [
    "print(\"DCT-2 Example:\")\n",
    "x = [231, 32, 233, 161, 24, 71, 140, 245]\n",
    "expected_result = np.array([4.01e+02, 6.60e+00, 1.09e+02, -1.12e+02, 6.54e+01, 1.21e+02, 1.16e+02, 2.88e+01])\n",
    "result = my_dtc1(x)\n",
    "\n",
    "# Confronto dei risultati\n",
    "try:\n",
    "    np.testing.assert_allclose(result, expected_result, rtol=1e-2, atol=1e-2)\n",
    "    print(\"Test passato con successo!\")\n",
    "except AssertionError as e:\n",
    "    print(\"Test fallito!\")\n",
    "    print(e)\n"
   ]
  },
  {
   "cell_type": "code",
   "execution_count": 43,
   "id": "c74e81ab",
   "metadata": {},
   "outputs": [],
   "source": [
    "def my_dtc2(x):\n",
    "    ris = np.zeros(len(x))\n",
    "    ris = np.apply_along_axis(my_dtc1, axis=0, arr=x) # sulle colonne\n",
    "    ris = np.apply_along_axis(my_dtc1, axis=1, arr=ris) # sulle righe\n",
    "    return ris"
   ]
  },
  {
   "cell_type": "code",
   "execution_count": 44,
   "id": "1b54105f",
   "metadata": {},
   "outputs": [
    {
     "name": "stdout",
     "output_type": "stream",
     "text": [
      "Test passato con successo!\n"
     ]
    }
   ],
   "source": [
    "x = np.array([\n",
    "    [231, 32, 233, 161, 24, 71, 140, 245],\n",
    "    [247, 40, 248, 245, 124, 204, 36, 107],\n",
    "    [234, 202, 245, 167, 9, 217, 239, 173],\n",
    "    [193, 190, 100, 167, 43, 180, 8, 70],\n",
    "    [11, 24, 210, 177, 81, 243, 8, 112],\n",
    "    [97, 195, 203, 47, 125, 114, 165, 181],\n",
    "    [193, 70, 174, 167, 41, 30, 127, 245],\n",
    "    [87, 149, 57, 192, 65, 129, 178, 228]\n",
    "])\n",
    "\n",
    "expected_result = np.array([\n",
    "    [1.11e+03, 4.40e+01, 7.59e+01, -1.38e+02, 3.50e+00, 1.22e+02, 1.95e+02, -1.01e+02],\n",
    "    [7.71e+01, 1.14e+02, -2.18e+01, 4.13e+01, 8.77e+00, 9.90e+01, 1.38e+02, 1.09e+01],\n",
    "    [4.48e+01, -6.27e+01, 1.11e+02, -7.63e+01, 1.24e+02, 9.55e+01, -3.98e+01, 5.85e+01],\n",
    "    [-6.99e+01, -4.02e+01, -2.34e+01, -7.67e+01, 2.66e+01, -3.68e+01, 6.61e+01, 1.25e+02],\n",
    "    [-1.09e+02, -4.33e+01, -5.55e+01, 8.17e+00, 3.02e+01, -2.86e+01, 2.44e+00, -9.41e+01],\n",
    "    [-5.38e+00, 5.66e+01, 1.73e+02, -3.54e+01, 3.23e+01, 3.34e+01, -5.81e+01, 1.90e+01],\n",
    "    [7.88e+01, -6.45e+01, 1.18e+02, -1.50e+01, -1.37e+02, -3.06e+01, -1.05e+02, 3.98e+01],\n",
    "    [1.97e+01, -7.81e+01, 9.72e-01, -7.23e+01, -2.15e+01, 8.13e+01, 6.37e+01, 5.90e+00]\n",
    "])\n",
    "\n",
    "result = my_dtc2(x)    \n",
    "# Confronto dei risultati\n",
    "try:\n",
    "    np.testing.assert_allclose(result, expected_result, rtol=1e-2, atol=1e-2)\n",
    "    print(\"Test passato con successo!\")\n",
    "except AssertionError as e:\n",
    "    print(\"Test fallito!\")\n",
    "    print(e)        \n",
    "\n"
   ]
  },
  {
   "cell_type": "code",
   "execution_count": 45,
   "id": "d4cde982",
   "metadata": {},
   "outputs": [
    {
     "name": "stdout",
     "output_type": "stream",
     "text": [
      "Tempo di esecuzione con algoritmo ottimizzato: 0.002513885498046875 secondi\n",
      "Tempo di esecuzione con algoritmo fatto da me: 0.0017049312591552734 secondi\n",
      "differenza tra i due tempi: -0.0008089542388916016\n",
      "Tempo di esecuzione con algoritmo ottimizzato: 6.914138793945312e-05 secondi\n",
      "Tempo di esecuzione con algoritmo fatto da me: 0.13818597793579102 secondi\n",
      "differenza tra i due tempi: 0.13811683654785156\n",
      "Tempo di esecuzione con algoritmo ottimizzato: 9.202957153320312e-05 secondi\n",
      "Tempo di esecuzione con algoritmo fatto da me: 1.0676977634429932 secondi\n",
      "differenza tra i due tempi: 1.06760573387146\n",
      "Tempo di esecuzione con algoritmo ottimizzato: 0.00024819374084472656 secondi\n",
      "Tempo di esecuzione con algoritmo fatto da me: 8.622720003128052 secondi\n",
      "differenza tra i due tempi: 8.622471809387207\n",
      "Tempo di esecuzione con algoritmo ottimizzato: 0.0004711151123046875 secondi\n",
      "Tempo di esecuzione con algoritmo fatto da me: 28.525839805603027 secondi\n",
      "differenza tra i due tempi: 28.525368690490723\n"
     ]
    }
   ],
   "source": [
    "from numpy import append\n",
    "from scipy.fftpack import dct\n",
    "import time\n",
    "import random\n",
    "\n",
    "tempo_mio_list = []\n",
    "tempo_ottimo_list = []\n",
    "dimensioni_matrice = [10,50,100,200,300]\n",
    "\n",
    "for n in dimensioni_matrice:\n",
    "    x = np.random.rand(n,n)\n",
    "    inizio_tempo=time.time()\n",
    "    ris_ottimo = dct(dct(x.T).T)\n",
    "    fine_tempo=time.time()\n",
    "    tempo_ottimo = fine_tempo - inizio_tempo\n",
    "    tempo_ottimo_list.append(tempo_ottimo)\n",
    "    print(f\"Tempo di esecuzione con algoritmo ottimizzato: {tempo_ottimo} secondi\")\n",
    "\n",
    "    inizio_tempo=time.time()\n",
    "    ris = my_dtc2(x)\n",
    "    fine_tempo=time.time()\n",
    "    tempo_mio = fine_tempo-inizio_tempo\n",
    "    tempo_mio_list.append(tempo_mio)\n",
    "    print(f\"Tempo di esecuzione con algoritmo fatto da me: {tempo_mio} secondi\")\n",
    "\n",
    "    print(\"differenza tra i due tempi:\", tempo_mio - tempo_ottimo)"
   ]
  },
  {
   "cell_type": "code",
   "execution_count": 52,
   "id": "9fae47d2",
   "metadata": {},
   "outputs": [
    {
     "data": {
      "text/plain": [
       "(50.0, 314.5)"
      ]
     },
     "execution_count": 52,
     "metadata": {},
     "output_type": "execute_result"
    },
    {
     "data": {
      "image/png": "[encoded data removed]",
      "text/plain": [
       "<Figure size 640x480 with 1 Axes>"
      ]
     },
     "metadata": {},
     "output_type": "display_data"
    }
   ],
   "source": [
    "import matplotlib.pyplot as plt\n",
    "\n",
    "fig = plt.figure()\n",
    "ax = plt.axes()\n",
    "\n",
    "ax.set_yscale('log')\n",
    "ax.plot(dimensioni_matrice, tempo_mio_list, label='my_dct2')\n",
    "ax.plot(dimensioni_matrice, tempo_ottimo_list, label='scipy_dct2')\n",
    "ax.legend(loc='upper left', fontsize=10)\n",
    "ax.set_xlim(50)"
   ]
  }
 ],
 "metadata": {
  "kernelspec": {
   "display_name": "base",
   "language": "python",
   "name": "python3"
  },
  "language_info": {
   "codemirror_mode": {
    "name": "ipython",
    "version": 3
   },
   "file_extension": ".py",
   "mimetype": "text/x-python",
   "name": "python",
   "nbconvert_exporter": "python",
   "pygments_lexer": "ipython3",
   "version": "3.10.14"
  }
 },
 "nbformat": 4,
 "nbformat_minor": 5
}
